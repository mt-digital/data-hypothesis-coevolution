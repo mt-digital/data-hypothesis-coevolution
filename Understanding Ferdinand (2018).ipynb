{
 "cells": [
  {
   "cell_type": "code",
   "execution_count": 1,
   "metadata": {},
   "outputs": [],
   "source": [
    "import numpy as np\n",
    "import matplotlib.pyplot as plt\n",
    "import warnings; warnings.simplefilter('ignore')"
   ]
  },
  {
   "cell_type": "markdown",
   "metadata": {},
   "source": [
    "# Étude of Ferdinand (2018): \"Coevolution of Data and Hypotheses\"\n",
    "\n",
    "I saw Vanessa Ferdinand give a talk at the Cultural Evolution Society meeting this year. It was on [her EVOLANG paper](https://www.researchgate.net/publication/324479016_The_coevolution_of_data_and_hypotheses_in_bayesian_cultural_evolution) \"The coevolution of data and hypotheses in bayesian cultural evolution.\" Ferdinand uses a formal equivalence between Bayesian hypothesis updating and the replicator equation to build a formal model of the coevolution of private beliefs (hypotheses) and public communications (observable variant population data). She says \"(find quote about Sperber).\" \n",
    "\n",
    "As this is a general model, it seems we should look for ways to cast existing models we're currently interested in into that framework. In order to do this, we need to deeply understand the model, which I don't yet. This notebook is my process of understanding her paper. After a numpy and matplotlib warmup, I will explain the Ferdinand coevolution model as she presents it, rework it into linear algebra as an educational exercise, and implement my linear algebra in NumPy. Ferdinand uses ternary plots to illustrate how the model works with three cultural variants and three hypotheses. I've been eyeing those wanting to learn them, and this seems like a good opportunity."
   ]
  },
  {
   "cell_type": "markdown",
   "metadata": {},
   "source": [
    "## NumPy and matplotlib warmup\n",
    "\n",
    "Extremely simple example to remember how to write linear algebra in $\\LaTeX$ and do matrix math in numpy.\n",
    "\n",
    "$$\n",
    "X = I = \\begin{pmatrix} 1 & 0 \\\\\n",
    "             0 & 1 \\\\\n",
    "     \\end{pmatrix}\n",
    "$$\n",
    "\n",
    "$$\n",
    "y = \\begin{pmatrix} \\pi \\\\ -\\pi\n",
    "\\end{pmatrix}\n",
    "$$\n",
    "\n",
    "$$\n",
    "z = Xy = Iy = y\n",
    "$$"
   ]
  },
  {
   "cell_type": "code",
   "execution_count": 2,
   "metadata": {},
   "outputs": [
    {
     "name": "stdout",
     "output_type": "stream",
     "text": [
      "[ 3.14159265 -3.14159265]\n"
     ]
    },
    {
     "data": {
      "image/png": "[encoded data removed]",
      "text/plain": [
       "<Figure size 216x216 with 2 Axes>"
      ]
     },
     "metadata": {
      "needs_background": "light"
     },
     "output_type": "display_data"
    },
    {
     "data": {
      "image/png": "[encoded data removed]",
      "text/plain": [
       "<Figure size 288x144 with 1 Axes>"
      ]
     },
     "metadata": {
      "needs_background": "light"
     },
     "output_type": "display_data"
    }
   ],
   "source": [
    "X = np.array([[1, 0], [0, 1]])\n",
    "y = np.array([np.pi, -np.pi])\n",
    "\n",
    "# z = X.dot(y)\n",
    "# New matrix-vector notation in Python 3.5!\n",
    "# See https://www.python.org/dev/peps/pep-0465\n",
    "z = X @ y  \n",
    "\n",
    "fig, ax = plt.subplots(figsize=(3,3))\n",
    "mat = ax.matshow(X)\n",
    "ax.set_title('X', size=16)\n",
    "fig.colorbar(mat)\n",
    "plt.figure(figsize=(4,2))\n",
    "plt.plot(z, 'o', ms=10)\n",
    "plt.xlim([-.1, 1.1])\n",
    "plt.xticks([0, 1])\n",
    "plt.xlabel(r'$z$ index')\n",
    "plt.yticks([-np.pi, np.pi], [r'$-\\pi$', r'$\\pi$'])\n",
    "plt.ylim([-5, 5])\n",
    "plt.ylabel(r'$z$ value')\n",
    "plt.title(r'$Xy = z = \\pm \\pi$', size=16)\n",
    "print(z)"
   ]
  },
  {
   "cell_type": "markdown",
   "metadata": {},
   "source": [
    "## Ferdinand (2018) model\n",
    "\n",
    "### Individual evolution of cultural artifacts and worldview hypotheses\n",
    "\n",
    "First, consider the replicator dynamics of cultural artifacts $d_i$,\n",
    "\n",
    "$$\n",
    "p(d_i)' = \\frac{p(d_i)f(d_i)}{\\sum_{k=1}^K p(d_k)f(d_k)}\n",
    "$$\n",
    "\n",
    "This equation defines the proportions of cultural artifacts, $p(d_i)$ at time $t+1$, calculated using the relative fitness of each proportion as a scaling factor\n",
    "\n",
    "$$\n",
    "\\frac{f(d_i)}{Z_d}\n",
    "$$\n",
    "\n",
    "where\n",
    "\n",
    "$$\n",
    "Z_d = \\sum_{k=1}^n p(d_k)f(d_k)\n",
    "$$\n",
    "\n",
    "is also calculated at every timestep. We can think of $K$ as the cultural complexity. I see no reason why the number of artifacts should equal the number of hypotheses in general, but at this point it certainly makes the math and interpretation easier.\n",
    "\n",
    "Cultural language evolution models, (and equivalently ILMs?), such as Kalish and Griffiths (2007), consider which hypotheses are adopted by language learners given cognitive constraints (languages are differentially \"difficult\" and \"expressive\") and ambient data observed each time step, represented by $d$. Hypotheses about language evolve as follows\n",
    "\n",
    "$$\n",
    "p(h_j)' = \\frac{p(h_j)p(d|h_j)}{Z_h}\n",
    "$$\n",
    "\n",
    "where \n",
    "\n",
    "$$\n",
    "Z_h = \\sum_{k=1}^K p(h_k)p(d|h_k).\n",
    "$$\n",
    "\n",
    "### Coevolution dynamics of artifacts and hypotheses\n",
    "\n",
    "\n",
    "Recognizing that the fitness of a cultural artifact depends on the hypotheses entertained by individuals in the population, we write the relative fitness of an artifact with respect to hypothesis $h^*$ as\n",
    "\n",
    "$$\n",
    "f(d_i) = p(d_i | h^*)\n",
    "$$\n",
    "\n",
    "\n",
    "Similarly, we note that the fitness of a hypothesis is dependent on its likelihood given observed data $d^*$,\n",
    "\n",
    "$$\n",
    "f(h_j) = p(d^* | h_j)\n",
    "$$\n",
    "\n",
    "Then, the above recursions for $p(d_i)$ and $p(h_j)$ can be combined into the following coevolution equations\n",
    "\n",
    "$$\n",
    "    p(d_i)' = \\sum_j \\left( \\frac{p(d_i)p(d_i|h_j)}{\\sum_{k=1}^K p(d_k)p(d_k|h_j)} \\right) p(h_j)\n",
    "$$\n",
    "\n",
    "$$\n",
    "    p(h_j)' = \\sum_i \\left( \\frac{p(h_j)p(d_i|h_j)}{\\sum_{k=1}^K p(h_k)p(d_i|h_k)} \\right) p(d_i).\n",
    "$$\n",
    "\n",
    "(NOT SURE HOW; DERIVE THIS)\n",
    "\n",
    "\n",
    "\n",
    "### Matrix formulation of Ferdinand's coevolution model\n",
    "\n",
    "Now, in order to facilitate implementation of an efficient matrix formulation in NumPy, to better understand the Ferdinand coevolution model, and just for funsies, I will cast the model in terms of matrix math. \n",
    "First, note that the likelihood of data $d_i$ given hypothesis $h_j$ is found in both coevolution equations ($p(d_i|h_j)$). Thus, we can define a likelihood matrix, $W$ with\n",
    "\n",
    "$$\n",
    "W_{ij} = p(d_i|h_j).\n",
    "$$\n",
    "\n",
    "In the simplest case, the likelihoods are constants: no matter what the frequency of $d_i$ and $h_j$, $p(d_i|h_j)$ is the same. It is conceivable, though, that this is not always the case, and this model is general enough to allow for time-varying likelihoods.\n",
    "\n",
    "We can identify the normalization constant over artifacts and hypotheses as follows. First, for artifacts define\n",
    "\n",
    "$$\n",
    "Z_{d,j} = \\sum_{k} p(d_k)p(d_k|h_j) = \\sum_k W_{kj} p(d_k)\n",
    "$$\n",
    "\n",
    "or in matrix-vector form $Z_d = W^Tp(d)$.\n",
    "\n",
    "and for hypotheses,\n",
    "\n",
    "$$\n",
    "Z_{i,h} = \\sum_{k} p(h_k) p(d_i|h_k).\n",
    "$$\n",
    "\n",
    "Now the coevolution equations are\n",
    "\n",
    "$$\n",
    "p(d_i)' = p(d_i) \\sum_j  \\frac{W_{ij} p(h_j)}{Z_{d,j}}\n",
    "$$\n",
    "\n",
    "and\n",
    "\n",
    "$$\n",
    "p(h_j)' = p(h_j) \\sum_i \\frac{W_{ij} p(d_i)}{Z_{i,h}}\n",
    "$$\n",
    "\n",
    "I will define two matrices that represent the data-scaled fitness and the hypothesis-scaled fitness, used to update the artifact frequencies and the hypothesis frequencies, respectively. First, the data-scaled fitness is\n",
    "\n",
    "$$\n",
    "D_{ij} = W_{ij} / Z_{d,j} = \\begin{bmatrix}\n",
    "    W_{11}/Z_{d,1} & W_{12}/Z_{d,2} & \\cdots & W_{1K} / Z_{d,K} \\\\\n",
    "    \\vdots         & \\ddots         & \\ddots & W_{2K} / Z_{d,K} \\\\\n",
    "    \\vdots         & \\ddots         & \\ddots & \\vdots           \\\\\n",
    "    W_{KK}/Z_{d,1} & \\cdots         & \\cdots & W_{KK} / Z_{d,K}\n",
    "    \\end{bmatrix}\n",
    "$$\n",
    "\n",
    "from which we can write \n",
    "\n",
    "$$\n",
    "p(d_i)' = p(d_i) \\sum_j D_{ij} p(h_j),\n",
    "$$\n",
    "\n",
    "which can be written in terms of the Hadamard product, $\\odot$, which is just element-wise multiplication, and a matrix-vector multiplication $D p(h)$:\n",
    "\n",
    "$$\n",
    "p(d)' = \\left( D p(h) \\right) \\odot p(d)\n",
    "$$\n",
    "\n",
    "Similarly, I define the hypothesis-scaled fitness\n",
    "\n",
    "$$\n",
    "H_{ij} = W_{ij} / Z_{i,h} = \\begin{bmatrix}\n",
    "    W_{11}/Z_{1,h} & W_{12}/Z_{1,h} & \\cdots & W_{1K} / Z_{1,h} \\\\\n",
    "    \\vdots         & \\ddots         & \\ddots & W_{2K} / Z_{2,h} \\\\\n",
    "    \\vdots         & \\ddots         & \\ddots & \\vdots           \\\\\n",
    "    W_{KK}/Z_{K,h} & \\cdots         & \\cdots & W_{KK} / Z_{K,h}\n",
    "    \\end{bmatrix}\n",
    "$$\n",
    "\n",
    "and now we can write the vector-valued recursion as\n",
    "\n",
    "$$\n",
    "p(h)' = \\left( H^T p(d) \\right) \\odot p(h)\n",
    "$$\n",
    "\n",
    "Now I will replicate Ferdinand's simple $K=3$ example given in Section 2 of the paper."
   ]
  },
  {
   "cell_type": "code",
   "execution_count": 3,
   "metadata": {},
   "outputs": [
    {
     "name": "stdout",
     "output_type": "stream",
     "text": [
      "[[0.8 0.2 0.3]\n",
      " [0.1 0.6 0.3]\n",
      " [0.1 0.2 0.4]]\n",
      "[0.8 0.1 0.1]\n",
      "[0.8 0.2 0.3]\n"
     ]
    }
   ],
   "source": [
    "W = np.array(\n",
    "    [[.8, .2, .3], \n",
    "     [.1, .6, .3], \n",
    "     [.1, .2, .4]]\n",
    ")\n",
    "print(W)\n",
    "print(W[:,0])  # Likelihoods of data under h_1\n",
    "print(W[0,:])  # Fitness of hypotheses given data d_1"
   ]
  },
  {
   "cell_type": "code",
   "execution_count": 4,
   "metadata": {},
   "outputs": [
    {
     "name": "stdout",
     "output_type": "stream",
     "text": [
      "[[0.5  0.25]\n",
      " [0.5  0.25]]\n",
      "\n",
      "[[0.5  0.5 ]\n",
      " [0.25 0.25]]\n",
      "\n",
      "[[2. 4.]\n",
      " [2. 4.]]\n",
      "\n",
      "[[2. 2.]\n",
      " [4. 4.]]\n"
     ]
    }
   ],
   "source": [
    "A = np.array([[1, 1], [1, 1]])\n",
    "b = np.array([0.5, 0.25])\n",
    "\n",
    "div1 = np.array([b for _ in range(2)])\n",
    "print(div1)\n",
    "print()\n",
    "\n",
    "div2 = np.array([b for _ in range(2)]).T\n",
    "print(div2)\n",
    "print()\n",
    "print(A / div1)\n",
    "print()\n",
    "print(A / div2)"
   ]
  },
  {
   "cell_type": "code",
   "execution_count": 5,
   "metadata": {},
   "outputs": [
    {
     "name": "stdout",
     "output_type": "stream",
     "text": [
      "[0.3333333333333333, 0.3333333333333333, 0.3333333333333333]\n",
      "\n",
      "[0.43333333 0.33333333 0.23333333]\n",
      "1.0\n",
      "\n",
      "[0.33333333 0.33333333 0.33333333]\n",
      "1.0\n",
      "\n",
      "p(d) = [0.50718866 0.33064099 0.16217034]\n",
      "p(h) = [0.40964837 0.38574005 0.20461159]\n"
     ]
    }
   ],
   "source": [
    "pd_init = [1/3, 1/3, 1/3]\n",
    "print(pd_init)  # Regular Python division always floating point.\n",
    "\n",
    "ph_init = pd_init.copy()  # Without copy ph_init would reference pd_init\n",
    "\n",
    "\n",
    "def iterate_pd(pd_current, ph_current, W):\n",
    "    Z_d = W.T @ pd_current\n",
    "    divisors = np.array([Z_d for _ in range(len(pd_current))])\n",
    "\n",
    "    D = W / divisors\n",
    "    return (D @ ph_current) * pd_current\n",
    "\n",
    "pd_next = iterate_pd(pd_init, ph_init, W)\n",
    "print()\n",
    "print(pd_next)\n",
    "print(sum(pd_next))\n",
    "\n",
    "\n",
    "def iterate_ph(pd_current, ph_current, W):\n",
    "    Z_h = W @ ph_current\n",
    "    divisors = np.array([Z_h for _ in range(len(ph_current))]).T\n",
    "\n",
    "    H = W / divisors\n",
    "#     print(H.T)\n",
    "    return (H.T @ pd_current) * ph_current\n",
    "\n",
    "ph_next = iterate_ph(pd_next, ph_init, W)\n",
    "print()\n",
    "print(ph_next)\n",
    "print(sum(ph_next))\n",
    "\n",
    "pd_next = iterate_pd(pd_next, ph_next, W)\n",
    "ph_next = iterate_ph(ph_next, pd_next, W)\n",
    "\n",
    "print()\n",
    "print('p(d) =', pd_next)\n",
    "print('p(h) =', ph_next)"
   ]
  },
  {
   "cell_type": "code",
   "execution_count": 6,
   "metadata": {},
   "outputs": [],
   "source": [
    "# https://github.com/marcharper/python-ternary\n",
    "\n",
    "def pd_only_simulation(ph=[1/3, 1/3, 1/3], W=None, pd_init=[1/3, 1/3, 1/3], conv_limit=1e-2):\n",
    "    \n",
    "    pd_series = np.array([pd_init])\n",
    "    if W is None:\n",
    "        W = np.array(\n",
    "            [[.8, .2, .3], \n",
    "             [.1, .6, .3], \n",
    "             [.1, .2, .4]]\n",
    "        )\n",
    "        \n",
    "    pd = pd_init\n",
    "    diff = conv_limit + 1\n",
    "    n_pd = 1\n",
    "    \n",
    "    while diff > conv_limit:\n",
    "        pd_next = iterate_pd(pd, ph, W)\n",
    "        diff = np.linalg.norm(pd - pd_next)\n",
    "        pd = pd_next\n",
    "        pd_series = np.append(pd_series, pd)\n",
    "        n_pd += 1\n",
    "        \n",
    "    return pd_series.reshape(n_pd, 3)"
   ]
  },
  {
   "cell_type": "code",
   "execution_count": 7,
   "metadata": {},
   "outputs": [
    {
     "name": "stdout",
     "output_type": "stream",
     "text": [
      "[[5.61227423e-01 4.38772415e-01 1.61790077e-07]\n",
      " [5.61226670e-01 4.38773221e-01 1.09032512e-07]\n",
      " [5.61226109e-01 4.38773817e-01 7.34784665e-08]]\n"
     ]
    },
    {
     "data": {
      "image/png": "[encoded data removed]",
      "text/plain": [
       "<Figure size 288x288 with 1 Axes>"
      ]
     },
     "metadata": {
      "needs_background": "light"
     },
     "output_type": "display_data"
    }
   ],
   "source": [
    "# Parameters according to Section 2.\n",
    "pd_init = [.2, .2, .6]\n",
    "ph = [.3, .4, .3]\n",
    "pd_only = pd_only_simulation(pd_init=pd_init, ph=ph, conv_limit=1e-6)\n",
    "\n",
    "print(pd_only[-3:])\n",
    "\n",
    "fontsize=16\n",
    "import ternary\n",
    "fig, ax = plt.subplots(figsize=(4,4))\n",
    "ax.axis('off')\n",
    "figure, tax  = ternary.figure(ax, scale=1.0)\n",
    "tax.boundary()\n",
    "tax.gridlines(multiple=0.2, color='gray')\n",
    "tax.set_title(r'Evolution of $p(d)$ with constant $p(h)$')\n",
    "tax.plot(pd_only, linewidth=1, color='red', marker='o', ms=6)\n",
    "# tax.ticks(axis='lbr', linewidth=1, multiple=0.2)\n",
    "tax.left_axis_label(r'$p(d_2)$', fontsize=fontsize)\n",
    "tax.right_axis_label(r'$p(d_1)$', fontsize=fontsize)\n",
    "tax.bottom_axis_label(r'$p(d_3)$', fontsize=fontsize)\n",
    "tax.show()"
   ]
  },
  {
   "cell_type": "code",
   "execution_count": 8,
   "metadata": {},
   "outputs": [],
   "source": [
    "def ph_only_simulation(pd=[1/3, 1/3, 1/3], W=None, ph_init=[1/3, 1/3, 1/3], conv_limit=1e-2, max_its=1e4):\n",
    "    \n",
    "    ph_series = np.array([ph_init])\n",
    "    if W is None:\n",
    "        W = np.array(\n",
    "            [[.8, .2, .3], \n",
    "             [.1, .6, .3], \n",
    "             [.1, .2, .4]]\n",
    "        )\n",
    "        \n",
    "    ph = ph_init\n",
    "    diff = conv_limit + 1\n",
    "    n_ph = 1\n",
    "    its = 0\n",
    "    while diff > conv_limit and n_ph < max_its:\n",
    "        \n",
    "        ph_next = iterate_ph(pd, ph, W)\n",
    "        diff = np.linalg.norm(ph - ph_next)\n",
    "        ph = ph_next\n",
    "        ph_series = np.append(ph_series, ph)\n",
    "        n_ph += 1\n",
    "        \n",
    "    return ph_series.reshape(n_ph, 3)"
   ]
  },
  {
   "cell_type": "code",
   "execution_count": 9,
   "metadata": {},
   "outputs": [],
   "source": [
    "def plot_ternary(series, kind='data'):\n",
    "    fontsize=16\n",
    "    import ternary\n",
    "    fig, ax = plt.subplots(figsize=(4,4))\n",
    "    ax.axis('off')\n",
    "    figure, tax  = ternary.figure(ax, scale=1.0)\n",
    "    tax.boundary()\n",
    "    tax.gridlines(multiple=0.2, color='gray')\n",
    "    \n",
    "    \n",
    "    # tax.ticks(axis='lbr', linewidth=1, multiple=0.2)\n",
    "    if kind == 'data':\n",
    "        tax.set_title(r'Evolution of $p(d)$ with constant $p(h)$')\n",
    "        tax.left_axis_label(r'$p(d_2)$', fontsize=fontsize)\n",
    "        tax.right_axis_label(r'$p(d_1)$', fontsize=fontsize)\n",
    "        tax.bottom_axis_label(r'$p(d_3)$', fontsize=fontsize)\n",
    "        \n",
    "        tax.plot(series, linewidth=1, color='red', marker='o', ms=6)\n",
    "        \n",
    "    elif kind == 'hypotheses':\n",
    "        tax.set_title(r'Evolution of $p(h)$ with constant $p(d)$')\n",
    "        tax.left_axis_label(r'$p(d_2)$', fontsize=fontsize)\n",
    "        tax.right_axis_label(r'$p(d_1)$', fontsize=fontsize)\n",
    "        tax.bottom_axis_label(r'$p(d_3)$', fontsize=fontsize)\n",
    "        \n",
    "        tax.plot(series, linewidth=1, color='blue', marker='o', ms=6)\n",
    "        \n",
    "    elif kind == 'both':\n",
    "        tax.set_title(r'Coevolution of $p(d)$ and $p(h)$')\n",
    "        tax.left_axis_label(r'$p(d_2)$, $p(h_2)$', fontsize=fontsize)\n",
    "        tax.right_axis_label(r'$p(d_1)$, $p(h_1)$', fontsize=fontsize)\n",
    "        tax.bottom_axis_label(r'$p(d_3)$, $p(h_3)$', fontsize=fontsize)\n",
    "        \n",
    "        tax.plot(series[0], linewidth=1, color='red', \n",
    "                 marker='o', ms=6, label=r'$p(d)$')\n",
    "        tax.plot(series[1], linewidth=1, color='blue', \n",
    "                 marker='o', ms=6, label=r'$p(h)$')\n",
    "        ax.legend(fontsize=14)\n",
    "    else:\n",
    "        raise NotImplemented(kind + ' not a known kind for ternary plot')\n",
    "    \n",
    "    tax.show()"
   ]
  },
  {
   "cell_type": "code",
   "execution_count": 10,
   "metadata": {},
   "outputs": [],
   "source": [
    "pd = [.2, .2, .6]\n",
    "ph_init = [.3, .4, .3]\n",
    "ph_only = ph_only_simulation(ph_init=ph_init, pd=pd, conv_limit=1e-4)"
   ]
  },
  {
   "cell_type": "code",
   "execution_count": 11,
   "metadata": {},
   "outputs": [
    {
     "name": "stdout",
     "output_type": "stream",
     "text": [
      "[[4.95719082e-06 4.30634859e-04 9.99564408e-01]\n",
      " [3.71827257e-06 3.58824877e-04 9.99637457e-01]\n",
      " [2.78894270e-06 2.98994646e-04 9.99698216e-01]]\n"
     ]
    },
    {
     "data": {
      "image/png": "[encoded data removed]",
      "text/plain": [
       "<Figure size 288x288 with 1 Axes>"
      ]
     },
     "metadata": {
      "needs_background": "light"
     },
     "output_type": "display_data"
    }
   ],
   "source": [
    "print(ph_only[-3:])\n",
    "plot_ternary(ph_only, kind='hypotheses')"
   ]
  },
  {
   "cell_type": "code",
   "execution_count": 12,
   "metadata": {},
   "outputs": [],
   "source": [
    "def coevolution_simulation(\n",
    "        pd_init=[1/3, 1/3, 1/3], \n",
    "        W=None, \n",
    "        ph_init=[1/3, 1/3, 1/3],\n",
    "        conv_limit=1e-2, \n",
    "        max_its=1e4):\n",
    "    \n",
    "    pd_series = np.array([pd_init])\n",
    "    ph_series = np.array([ph_init])\n",
    "    \n",
    "    if W is None:\n",
    "        W = np.array(\n",
    "            [[.8, .2, .3], \n",
    "             [.1, .6, .3], \n",
    "             [.1, .2, .4]]\n",
    "        )\n",
    "        \n",
    "    ph = ph_init\n",
    "    pd = pd_init\n",
    "    diff = conv_limit + 1\n",
    "\n",
    "    n = 1\n",
    "    \n",
    "    while diff > conv_limit and n < max_its:\n",
    "        \n",
    "        pd_next = iterate_pd(pd, ph, W)\n",
    "        ph_next = iterate_ph(pd_next, ph, W)\n",
    "        diff = np.linalg.norm(pd - pd_next) + np.linalg.norm(ph - ph_next)\n",
    "        \n",
    "        pd = pd_next\n",
    "        ph = ph_next\n",
    "        \n",
    "        pd_series = np.append(pd_series, pd)\n",
    "        ph_series = np.append(ph_series, ph)\n",
    "        n += 1\n",
    "        \n",
    "    return (pd_series.reshape(n, 3), ph_series.reshape(n, 3))"
   ]
  },
  {
   "cell_type": "code",
   "execution_count": 13,
   "metadata": {},
   "outputs": [],
   "source": [
    "pd_init = [.2, .2, .6]\n",
    "ph_init = [.3, .4, .3]\n",
    "series = coevolution_simulation(pd_init=pd_init, ph_init=ph_init)"
   ]
  },
  {
   "cell_type": "code",
   "execution_count": 14,
   "metadata": {},
   "outputs": [
    {
     "data": {
      "image/png": "[encoded data removed]",
      "text/plain": [
       "<Figure size 288x288 with 1 Axes>"
      ]
     },
     "metadata": {
      "needs_background": "light"
     },
     "output_type": "display_data"
    }
   ],
   "source": [
    "plot_ternary(series, kind='both')"
   ]
  }
 ],
 "metadata": {
  "kernelspec": {
   "display_name": "Python 3",
   "language": "python",
   "name": "python3"
  },
  "language_info": {
   "codemirror_mode": {
    "name": "ipython",
    "version": 3
   },
   "file_extension": ".py",
   "mimetype": "text/x-python",
   "name": "python",
   "nbconvert_exporter": "python",
   "pygments_lexer": "ipython3",
   "version": "3.7.0"
  }
 },
 "nbformat": 4,
 "nbformat_minor": 2
}
